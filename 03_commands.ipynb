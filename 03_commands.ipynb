{
 "cells": [
  {
   "cell_type": "code",
   "execution_count": null,
   "metadata": {},
   "outputs": [],
   "source": [
    "# default_exp commands"
   ]
  },
  {
   "cell_type": "code",
   "execution_count": null,
   "metadata": {},
   "outputs": [],
   "source": [
    "%load_ext autoreload\n",
    "%autoreload 2"
   ]
  },
  {
   "cell_type": "code",
   "execution_count": null,
   "metadata": {},
   "outputs": [],
   "source": [
    "#hide\n",
    "from nbdev.showdoc import *"
   ]
  },
  {
   "cell_type": "code",
   "execution_count": null,
   "metadata": {},
   "outputs": [],
   "source": [
    "# export\n",
    "\n",
    "from create_reference.utils import file_exists"
   ]
  },
  {
   "cell_type": "code",
   "execution_count": null,
   "metadata": {},
   "outputs": [],
   "source": [
    "# export\n",
    "\n",
    "def cmd_wget(link,filename):\n",
    "    return 'wget -c {link} -O {filename}'.format(link=link,filename=filename)\n",
    "\n",
    "def cmd_gunzip(filename):\n",
    "    return 'gunzip -d {filename}'.format(filename)\n",
    "\n",
    "def cmd_mkdir(*dirs):\n",
    "    if len(dirs)==1 and dirs[0] == '':\n",
    "        return 'echo No need to make dirs'\n",
    "    else:\n",
    "        return 'mkdir -p ' + ' '.join(dirs)\n",
    "    \n",
    "def cmd_gunzip(gzipfile):\n",
    "    return 'gzip -d ' + gzipfile"
   ]
  },
  {
   "cell_type": "code",
   "execution_count": null,
   "metadata": {},
   "outputs": [
    {
     "name": "stdout",
     "output_type": "stream",
     "text": [
      "Converted 00_utils.ipynb.\n",
      "Converted 01_defaults.ipynb.\n",
      "Converted 02_tasks.ipynb.\n",
      "Converted 03_commands.ipynb.\n",
      "Converted 04_pipelines.ipynb.\n",
      "Converted 05_recipes.ipynb.\n",
      "Converted index.ipynb.\n"
     ]
    }
   ],
   "source": [
    "#hide\n",
    "from nbdev.export import notebook2script\n",
    "notebook2script()"
   ]
  },
  {
   "cell_type": "code",
   "execution_count": null,
   "metadata": {},
   "outputs": [],
   "source": []
  }
 ],
 "metadata": {
  "kernelspec": {
   "display_name": "Python 3",
   "language": "python",
   "name": "python3"
  }
 },
 "nbformat": 4,
 "nbformat_minor": 4
}

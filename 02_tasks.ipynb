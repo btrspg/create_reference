{
 "cells": [
  {
   "cell_type": "code",
   "execution_count": null,
   "metadata": {},
   "outputs": [],
   "source": [
    "# default_exp tasks"
   ]
  },
  {
   "cell_type": "code",
   "execution_count": null,
   "metadata": {},
   "outputs": [],
   "source": [
    "%load_ext autoreload\n",
    "%autoreload 2"
   ]
  },
  {
   "cell_type": "code",
   "execution_count": null,
   "metadata": {},
   "outputs": [],
   "source": [
    "#hide\n",
    "from nbdev.showdoc import *"
   ]
  },
  {
   "cell_type": "code",
   "execution_count": null,
   "metadata": {},
   "outputs": [],
   "source": [
    "# export\n",
    "import os\n",
    "from biocores.softwares.default import *\n",
    "from biocores.softwares.bwa import Bwa\n",
    "from biocores.softwares.bowtie import Bowtie\n",
    "from biocores.softwares.bowtie2 import Bowtie2\n",
    "from create_reference.commands import *\n",
    "from create_reference.utils import file_exists"
   ]
  },
  {
   "cell_type": "code",
   "execution_count": null,
   "metadata": {},
   "outputs": [],
   "source": [
    "# export\n",
    "\n",
    "def task_get_file(link,filename):\n",
    "    if file_exists(filename):\n",
    "        return 'echo {filename} exists'.format(filename=filename)\n",
    "    else:\n",
    "        cmds = [\n",
    "            cmd_mkdir(os.path.dirname(filename)),\n",
    "            cmd_wget(link,filename)\n",
    "        ]\n",
    "        return '\\n'.join(cmds)\n",
    "\n",
    "def task_bwa_build_index(software,reference):\n",
    "    bwa = Bwa(software,bwaDefault)\n",
    "    cmds = [\n",
    "            bwa.cmd_build_index(reference)\n",
    "        ]\n",
    "        \n",
    "    return '\\n'.join(cmds)\n",
    "\n",
    "def task_bowtie_build_index(software,reference, prefix):\n",
    "    bowtie=Bowtie(software,bowtieDefault)\n",
    "    cmds = [\n",
    "            cmd_mkdir(os.path.dirname(prefix)),\n",
    "            bowtie.cmd_build_index(reference, prefix)\n",
    "        ]\n",
    "        \n",
    "    return '\\n'.join(cmds) \n",
    "\n",
    "def task_bowtie2_build_index(software,reference, prefix):\n",
    "    bowtie2=Bowtie2(software,bowtie2Default)\n",
    "    cmds = [\n",
    "            cmd_mkdir(os.path.dirname(prefix)),\n",
    "            bowtie2.cmd_build_index(reference, prefix)\n",
    "        ]\n",
    "        \n",
    "    return '\\n'.join(cmds) "
   ]
  },
  {
   "cell_type": "code",
   "execution_count": null,
   "metadata": {},
   "outputs": [
    {
     "name": "stdout",
     "output_type": "stream",
     "text": [
      "bwa  index  genome.fasta\n",
      "mkdir -p /tmp\n",
      "bowtie-build    genome.fasta /tmp/bowtie_index\n",
      "mkdir -p /tmp\n",
      "bowtie2-build    genome.fasta /tmp/bowtie2_index\n"
     ]
    }
   ],
   "source": [
    "bwa='bwa'\n",
    "bowtie='bowtie'\n",
    "bowtie2='bowtie2'\n",
    "reference = 'genome.fasta'\n",
    "bowtie_prefix = '/tmp/bowtie_index'\n",
    "bowtie2_prefix='/tmp/bowtie2_index'\n",
    "print(task_bwa_build_index(bwa,reference))\n",
    "print(task_bowtie_build_index(bowtie,reference,bowtie_prefix))\n",
    "print(task_bowtie2_build_index(bowtie2,reference,bowtie2_prefix))\n"
   ]
  },
  {
   "cell_type": "code",
   "execution_count": null,
   "metadata": {},
   "outputs": [],
   "source": [
    "hs_link='ftp://ftp.ensembl.org/pub/release-99/fasta/homo_sapiens/dna/Homo_sapiens.GRCh38.dna.primary_assembly.fa.gz'\n",
    "ss_link='ftp://ftp.ensembl.org/pub/release-99/fasta/sus_scrofa/dna/Sus_scrofa.Sscrofa11.1.dna.toplevel.fa.gz'\n",
    "outdir='/tmp/'\n",
    "species='homo_sapiens'\n",
    "version='99'\n",
    "filename='genome.fasta.gz'\n"
   ]
  },
  {
   "cell_type": "code",
   "execution_count": null,
   "metadata": {},
   "outputs": [
    {
     "name": "stdout",
     "output_type": "stream",
     "text": [
      "echo No need to make dirs\n",
      "wget -c ftp://ftp.ensembl.org/pub/release-99/fasta/homo_sapiens/dna/Homo_sapiens.GRCh38.dna.primary_assembly.fa.gz -O genome.fasta.gz\n"
     ]
    }
   ],
   "source": [
    "print(task_get_file(hs_link,filename))"
   ]
  },
  {
   "cell_type": "code",
   "execution_count": null,
   "metadata": {},
   "outputs": [
    {
     "name": "stdout",
     "output_type": "stream",
     "text": [
      "echo No need to make dirs\n",
      "wget -c ftp://ftp.ensembl.org/pub/release-99/fasta/sus_scrofa/dna/Sus_scrofa.Sscrofa11.1.dna.toplevel.fa.gz -O genome.fasta.gz\n"
     ]
    }
   ],
   "source": [
    "print(task_get_file(ss_link,filename))"
   ]
  },
  {
   "cell_type": "code",
   "execution_count": null,
   "metadata": {},
   "outputs": [
    {
     "name": "stdout",
     "output_type": "stream",
     "text": [
      "Converted 00_utils.ipynb.\n",
      "Converted 01_defaults.ipynb.\n",
      "Converted 02_tasks.ipynb.\n",
      "Converted 03_commands.ipynb.\n",
      "Converted 04_pipelines.ipynb.\n",
      "Converted 05_recipes.ipynb.\n",
      "Converted index.ipynb.\n"
     ]
    }
   ],
   "source": [
    "#hide\n",
    "from nbdev.export import notebook2script\n",
    "notebook2script()"
   ]
  },
  {
   "cell_type": "code",
   "execution_count": null,
   "metadata": {},
   "outputs": [],
   "source": []
  }
 ],
 "metadata": {
  "kernelspec": {
   "display_name": "Python 3",
   "language": "python",
   "name": "python3"
  }
 },
 "nbformat": 4,
 "nbformat_minor": 4
}

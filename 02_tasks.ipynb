{
 "cells": [
  {
   "cell_type": "code",
   "execution_count": null,
   "metadata": {},
   "outputs": [],
   "source": [
    "# default_exp tasks"
   ]
  },
  {
   "cell_type": "code",
   "execution_count": null,
   "metadata": {},
   "outputs": [],
   "source": [
    "%load_ext autoreload\n",
    "%autoreload 2"
   ]
  },
  {
   "cell_type": "code",
   "execution_count": null,
   "metadata": {},
   "outputs": [],
   "source": [
    "#hide\n",
    "from nbdev.showdoc import *"
   ]
  },
  {
   "cell_type": "code",
   "execution_count": null,
   "metadata": {},
   "outputs": [],
   "source": [
    "# export\n",
    "import os\n",
    "from biocores.softwares.default import *\n",
    "from biocores.softwares.bwa import Bwa\n",
    "from biocores.softwares.bowtie import Bowtie\n",
    "from biocores.softwares.bowtie2 import Bowtie2\n",
    "from biocores.softwares.hisat2 import Hisat2\n",
    "from biocores.softwares.samtools import Samtools\n",
    "from biocores.softwares.picard import Picard\n",
    "from biocores.softwares.star import Star\n",
    "from create_reference.commands import *\n",
    "from create_reference.utils import file_exists"
   ]
  },
  {
   "cell_type": "code",
   "execution_count": null,
   "metadata": {},
   "outputs": [],
   "source": [
    "# export\n",
    "\n",
    "def task_get_file(link,filename):\n",
    "    if file_exists(filename):\n",
    "        return 'echo {filename} exists'.format(filename=filename)\n",
    "    else:\n",
    "        cmds = [\n",
    "            cmd_mkdir(os.path.dirname(filename)),\n",
    "            cmd_wget(link,filename)\n",
    "        ]\n",
    "        return '\\n'.join(cmds)\n",
    "\n",
    "def task_bwa_build_index(software,reference):\n",
    "    bwa = Bwa(software,bwaDefault)\n",
    "    cmds = [\n",
    "            bwa.cmd_build_index(reference)\n",
    "        ]\n",
    "        \n",
    "    return '\\n'.join(cmds)\n",
    "\n",
    "def task_bowtie_build_index(software,reference, prefix):\n",
    "    bowtie=Bowtie(software,bowtieDefault)\n",
    "    cmds = [\n",
    "            cmd_mkdir(os.path.dirname(prefix)),\n",
    "            bowtie.cmd_build_index(reference, prefix)\n",
    "        ]\n",
    "        \n",
    "    return '\\n'.join(cmds) \n",
    "\n",
    "def task_bowtie2_build_index(software,reference, prefix):\n",
    "    bowtie2=Bowtie2(software,bowtie2Default)\n",
    "    cmds = [\n",
    "            cmd_mkdir(os.path.dirname(prefix)),\n",
    "            bowtie2.cmd_build_index(reference, prefix)\n",
    "        ]\n",
    "        \n",
    "    return '\\n'.join(cmds) \n",
    "\n",
    "def task_samtools_build_index(software,reference):\n",
    "    samtools = Samtools(software,samtoolsDefault)\n",
    "    cmds = [\n",
    "        samtools.cmd_faidx(reference)\n",
    "    ]\n",
    "    return '\\n'.join(cmds)\n",
    "\n",
    "def task_star_build_index(software,reference,prefix,gtf,read_length):\n",
    "    star = Star(software,starDefault)\n",
    "    cmds = [\n",
    "        cmd_mkdir(os.path.dirname(prefix)),\n",
    "        star.cmd_build_index(prefix, reference, gtf, read_length)\n",
    "    ]\n",
    "    return '\\n'.join(cmds)\n",
    "\n",
    "def task_hisat2_build_index(software,reference,prefix,snp='',gtf=''):\n",
    "    hisat2=Hisat2(software,hisat2Default)\n",
    "    genome_ss=None\n",
    "    genome_exon=None\n",
    "    genome_genotype=None\n",
    "    genome_snp=None\n",
    "    \n",
    "    cmds = [\n",
    "        cmd_mkdir(os.path.dirname(prefix))\n",
    "    ]\n",
    "    if snp != '':\n",
    "        cmds.append(hisat2.cmd_prepare_snp_ucsc(reference,snp,prefix))\n",
    "        genome_snp=prefix+'.snp'\n",
    "        genome_genotype=prefix+'.haplotype'\n",
    "    if gtf != '':\n",
    "        cmds.append(hisat2.cmd_prepare_exon_ss(gtf,prefix))\n",
    "        genome_ss=prefix+'.ss'\n",
    "        genome_exon=prefix+'.exon'\n",
    "\n",
    "    cmds.append(hisat2.cmd_build_index(reference, prefix, genome_ss=genome_ss, genome_exon=genome_exon,\n",
    "                        genome_genotype=genome_genotype, genome_snp=genome_snp))\n",
    "    return '\\n'.join(cmds)\n",
    "\n",
    "def task_picard_build_index(software,reference,reference_dict,tmp):\n",
    "    picard=Picard(software,picardDefault)\n",
    "    cmds = [\n",
    "        cmd_mkdir(os.path.dirname(reference_dict),tmp),\n",
    "        picard.cmd_create_sequence_dictionary(reference, reference_dict, tmp),\n",
    "    ]\n",
    "    return '\\n'.join(cmds)\n",
    "\n",
    "def task_build_rRNA_intervals(software,bed, intervals,reference_dict, tmp):\n",
    "    picard=Picard(software,picardDefault)\n",
    "    cmds = [\n",
    "        cmd_mkdir(os.path.dirname(intervals),tmp),\n",
    "        picard.cmd_bed2intervals(bed, intervals,reference_dict, tmp)\n",
    "    ]\n",
    "    return '\\n'.join(cmds)\n",
    "\n",
    "def task_extract_rRNA_bed(gtf,bed):\n",
    "    cmds = [\n",
    "        cmd_mkdir(os.path.dirname(bed)),\n",
    "    ]\n",
    "    gtf2bed = '''awk -F '\\t' '{if(/gene_biotype \"rRNA\"/ && $3==\"transcript\"){print $1\"\\t\"$4\"\\t\"$5}}' ''' + gtf + '>' + bed\n",
    "    cmds.append(gtf2bed)\n",
    "    return '\\n'.join(cmds)\n",
    "\n",
    "def task_gunzip(gzipfile):\n",
    "    return cmd_gunzip(gzipfile)"
   ]
  },
  {
   "cell_type": "code",
   "execution_count": null,
   "metadata": {},
   "outputs": [
    {
     "name": "stdout",
     "output_type": "stream",
     "text": [
      "bwa  index  genome.fasta\n",
      "mkdir -p /tmp\n",
      "bowtie-build    genome.fasta /tmp/bowtie_index\n",
      "mkdir -p /tmp\n",
      "bowtie2-build    genome.fasta /tmp/bowtie2_index\n"
     ]
    }
   ],
   "source": [
    "bwa='bwa'\n",
    "bowtie='bowtie'\n",
    "bowtie2='bowtie2'\n",
    "hisat2='hisat2'\n",
    "star='STAR'\n",
    "star_prefix='/tmp/STAR'\n",
    "read_length=100\n",
    "reference = 'genome.fasta'\n",
    "bowtie_prefix = '/tmp/bowtie_index'\n",
    "bowtie2_prefix='/tmp/bowtie2_index'\n",
    "print(task_bwa_build_index(bwa,reference))\n",
    "print(task_bowtie_build_index(bowtie,reference,bowtie_prefix))\n",
    "print(task_bowtie2_build_index(bowtie2,reference,bowtie2_prefix))\n"
   ]
  },
  {
   "cell_type": "code",
   "execution_count": null,
   "metadata": {},
   "outputs": [
    {
     "name": "stdout",
     "output_type": "stream",
     "text": [
      "mkdir -p /tmp\n",
      "awk 'BEGIN{OFS=\"\\t\"} {if($2 ~ /^chr/) {$2 = substr($2, 4)}; if($2 == \"M\") {$2 = \"MT\"} print}' xxxx.snp \\\n",
      "    > /tmp/hisat2_prefix_snp.tmp\n",
      "hisat2_extract_snps_haplotypes_UCSC.py genome.fasta /tmp/hisat2_prefix_snp.tmp /tmp/hisat2_prefix\n",
      "hisat2_extract_splice_sites.py xxx.gtf > /tmp/hisat2_prefix.ss\n",
      "hisat2_extract_exons.py xxx.gtf > /tmp/hisat2_prefix.exon\n",
      "hisat2-build -p  16  genome.fasta  --ss /tmp/hisat2_prefix.ss --exon /tmp/hisat2_prefix.exon --haplotype /tmp/hisat2_prefix.haplotype --genome_snp /tmp/hisat2_prefix.snp /tmp/hisat2_prefix\n",
      "mkdir -p /tmp\n",
      "hisat2_extract_splice_sites.py xxx.gtf > /tmp/hisat2_prefix.ss\n",
      "hisat2_extract_exons.py xxx.gtf > /tmp/hisat2_prefix.exon\n",
      "hisat2-build -p  16  genome.fasta  --ss /tmp/hisat2_prefix.ss --exon /tmp/hisat2_prefix.exon /tmp/hisat2_prefix\n",
      "mkdir -p /tmp\n",
      "awk 'BEGIN{OFS=\"\\t\"} {if($2 ~ /^chr/) {$2 = substr($2, 4)}; if($2 == \"M\") {$2 = \"MT\"} print}' xxxx.snp \\\n",
      "    > /tmp/hisat2_prefix_snp.tmp\n",
      "hisat2_extract_snps_haplotypes_UCSC.py genome.fasta /tmp/hisat2_prefix_snp.tmp /tmp/hisat2_prefix\n",
      "hisat2-build -p  16  genome.fasta  --haplotype /tmp/hisat2_prefix.haplotype --genome_snp /tmp/hisat2_prefix.snp /tmp/hisat2_prefix\n"
     ]
    }
   ],
   "source": [
    "print(task_hisat2_build_index(hisat2,reference,'/tmp/hisat2_prefix','xxxx.snp','xxx.gtf'))\n",
    "print(task_hisat2_build_index(hisat2,reference,'/tmp/hisat2_prefix','','xxx.gtf'))\n",
    "print(task_hisat2_build_index(hisat2,reference,'/tmp/hisat2_prefix','xxxx.snp',''))"
   ]
  },
  {
   "cell_type": "code",
   "execution_count": null,
   "metadata": {},
   "outputs": [],
   "source": [
    "hs_link='ftp://ftp.ensembl.org/pub/release-99/fasta/homo_sapiens/dna/Homo_sapiens.GRCh38.dna.primary_assembly.fa.gz'\n",
    "ss_link='ftp://ftp.ensembl.org/pub/release-99/fasta/sus_scrofa/dna/Sus_scrofa.Sscrofa11.1.dna.toplevel.fa.gz'\n",
    "outdir='/tmp/'\n",
    "species='homo_sapiens'\n",
    "version='99'\n",
    "filename='genome.fasta.gz'\n"
   ]
  },
  {
   "cell_type": "code",
   "execution_count": null,
   "metadata": {},
   "outputs": [
    {
     "name": "stdout",
     "output_type": "stream",
     "text": [
      "echo No need to make dirs\n",
      "wget -c ftp://ftp.ensembl.org/pub/release-99/fasta/homo_sapiens/dna/Homo_sapiens.GRCh38.dna.primary_assembly.fa.gz -O genome.fasta.gz\n"
     ]
    }
   ],
   "source": [
    "print(task_get_file(hs_link,filename))"
   ]
  },
  {
   "cell_type": "code",
   "execution_count": null,
   "metadata": {},
   "outputs": [
    {
     "name": "stdout",
     "output_type": "stream",
     "text": [
      "echo No need to make dirs\n",
      "wget -c ftp://ftp.ensembl.org/pub/release-99/fasta/sus_scrofa/dna/Sus_scrofa.Sscrofa11.1.dna.toplevel.fa.gz -O genome.fasta.gz\n"
     ]
    }
   ],
   "source": [
    "print(task_get_file(ss_link,filename))"
   ]
  },
  {
   "cell_type": "code",
   "execution_count": null,
   "metadata": {},
   "outputs": [
    {
     "name": "stdout",
     "output_type": "stream",
     "text": [
      "mkdir -p /expt/logan/database//homo_sapiens/100\n",
      "awk -F '\t' '{if(/gene_biotype \"rRNA\"/ && $3==\"transcript\"){print $1\"\t\"$4\"\t\"$5}}'  /expt/logan/database//homo_sapiens/100/transcriptome.gtf>/expt/logan/database//homo_sapiens/100/rRNA.bed\n"
     ]
    }
   ],
   "source": [
    "print(task_extract_rRNA_bed(' /expt/logan/database//homo_sapiens/100/transcriptome.gtf','/expt/logan/database//homo_sapiens/100/rRNA.bed'))"
   ]
  },
  {
   "cell_type": "code",
   "execution_count": null,
   "metadata": {},
   "outputs": [
    {
     "name": "stdout",
     "output_type": "stream",
     "text": [
      "mkdir -p /tmp\n",
      "STAR --runThreadN 8 \\\n",
      "         --runMode genomeGenerate  \\\n",
      "        --genomeDir /tmp/STAR \\\n",
      "        --genomeFastaFiles genome.fasta \\\n",
      "        --sjdbGTFfile /expt/logan/database//homo_sapiens/100/transcriptome.gtf \\\n",
      "        --sjdbOverhang 100\n"
     ]
    }
   ],
   "source": [
    "print(task_star_build_index(star,reference,star_prefix,'/expt/logan/database//homo_sapiens/100/transcriptome.gtf',read_length))"
   ]
  },
  {
   "cell_type": "code",
   "execution_count": null,
   "metadata": {},
   "outputs": [
    {
     "name": "stdout",
     "output_type": "stream",
     "text": [
      "Converted 00_utils.ipynb.\n",
      "Converted 01_defaults.ipynb.\n",
      "Converted 02_tasks.ipynb.\n",
      "Converted 03_commands.ipynb.\n",
      "Converted 04_pipelines.ipynb.\n",
      "Converted 05_recipes.ipynb.\n",
      "Converted index.ipynb.\n"
     ]
    }
   ],
   "source": [
    "#hide\n",
    "from nbdev.export import notebook2script\n",
    "notebook2script()"
   ]
  },
  {
   "cell_type": "code",
   "execution_count": null,
   "metadata": {},
   "outputs": [],
   "source": []
  }
 ],
 "metadata": {
  "kernelspec": {
   "display_name": "Python 3",
   "language": "python",
   "name": "python3"
  }
 },
 "nbformat": 4,
 "nbformat_minor": 4
}

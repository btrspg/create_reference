{
 "cells": [
  {
   "cell_type": "code",
   "execution_count": null,
   "metadata": {},
   "outputs": [],
   "source": [
    "# default_exp utils"
   ]
  },
  {
   "cell_type": "code",
   "execution_count": null,
   "metadata": {},
   "outputs": [],
   "source": [
    "%load_ext autoreload\n",
    "%autoreload 2"
   ]
  },
  {
   "cell_type": "markdown",
   "metadata": {},
   "source": [
    "# create references\n",
    "\n",
    "> API details."
   ]
  },
  {
   "cell_type": "code",
   "execution_count": null,
   "metadata": {},
   "outputs": [],
   "source": [
    "#hide\n",
    "from nbdev.showdoc import *\n"
   ]
  },
  {
   "cell_type": "code",
   "execution_count": null,
   "metadata": {},
   "outputs": [],
   "source": [
    "# export\n",
    "import os\n",
    "import sys\n",
    "import re\n",
    "import argparse\n",
    "import ftplib\n",
    "from create_reference import defaults"
   ]
  },
  {
   "cell_type": "code",
   "execution_count": null,
   "metadata": {},
   "outputs": [],
   "source": [
    "# export\n",
    "def get_args(*args):\n",
    "    parser = argparse.ArgumentParser(prog='fetchr',\n",
    "                                     description='Fetch and Generate references for bioinformatics analysis',\n",
    "                                     formatter_class=argparse.ArgumentDefaultsHelpFormatter\n",
    "                                    )\n",
    "    \n",
    "    parser.add_argument('--species',nargs='+',choices=defaults.species,default='homo_spaiens',\n",
    "                       help='Reference or references from which species')\n",
    "    parser.add_argument('--indexs',nargs='+',choices=defaults.softwares,default='samtools',\n",
    "                       help='Using which software(s) to create indexes')\n",
    "    parser.add_argument('--reference-version','-rv',default=99,type=int,\n",
    "                       help='For homo_spaiens, version=75 is the last version of Grch37 reference, \\\n",
    "                       you can check the version in ftp://ftp.ensembl.org/pub/')\n",
    "    parser.add_argument('--outdir','-o',default='./',\n",
    "                       help='Reference and indexes generated direction')\n",
    "    parser.add_argument('--workflow','-w',default='sqlite:////sqlite.db',\n",
    "                       help='Workflow path')\n",
    "    parser.add_argument('--thread','-t',default=4,\n",
    "                       help='Thread number')\n",
    "    return parser.parse_args(args)\n"
   ]
  },
  {
   "cell_type": "code",
   "execution_count": null,
   "metadata": {},
   "outputs": [
    {
     "name": "stdout",
     "output_type": "stream",
     "text": [
      "usage: fetchr [-h]\n",
      "              [--species {homo_sapiens,mus_musculus,rattus_norvegicus,caenorhabditis_elegans,equus_caballus,capra_hircus,drosophila_melanogaster,macaca_mulatta,ovis_aries,sus_scrofa,oryctolagus_cuniculus,bos_taurus,saccharomyces_cerevisiae,gallus_gallus,gasterosteus_aculeatus,danio_rerio,oryzias_latipes,anser_cygnoides,callithrix_jacchus,pan_troglodytes,pongo_abelii,meleagris_gallopavo,oreochromis_niloticus,bos_grunniens,phascolarctos_cinereus,salmo_salar,amphilophus_citrinellus,ciona_intestinalis,monodelphis_domestica,mesocricetus_auratus,scophthalmus_maximus,felis_catus,microcebus_murinus,cynoglossus_semilaevis,anolis_carolinensis,ailuropoda_melanoleuca,melopsittacus_undulatus,clupea_harengus,neolamprologus_brichardi,maylandia_zebra,haplochromis_burtoni,pundamilia_nyererei,larimichthys_crocea,chlorocebus_sabaeus} [{homo_sapiens,mus_musculus,rattus_norvegicus,caenorhabditis_elegans,equus_caballus,capra_hircus,drosophila_melanogaster,macaca_mulatta,ovis_aries,sus_scrofa,oryctolagus_cuniculus,bos_taurus,saccharomyces_cerevisiae,gallus_gallus,gasterosteus_aculeatus,danio_rerio,oryzias_latipes,anser_cygnoides,callithrix_jacchus,pan_troglodytes,pongo_abelii,meleagris_gallopavo,oreochromis_niloticus,bos_grunniens,phascolarctos_cinereus,salmo_salar,amphilophus_citrinellus,ciona_intestinalis,monodelphis_domestica,mesocricetus_auratus,scophthalmus_maximus,felis_catus,microcebus_murinus,cynoglossus_semilaevis,anolis_carolinensis,ailuropoda_melanoleuca,melopsittacus_undulatus,clupea_harengus,neolamprologus_brichardi,maylandia_zebra,haplochromis_burtoni,pundamilia_nyererei,larimichthys_crocea,chlorocebus_sabaeus} ...]]\n",
      "              [--indexs {bwa,hisat2,samtools,star,picard} [{bwa,hisat2,samtools,star,picard} ...]]\n",
      "              [--reference-version REFERENCE_VERSION] [--outdir OUTDIR]\n",
      "              [--workflow WORKFLOW] [--thread THREAD]\n",
      "\n",
      "Fetch and Generate references for bioinformatics analysis\n",
      "\n",
      "optional arguments:\n",
      "  -h, --help            show this help message and exit\n",
      "  --species {homo_sapiens,mus_musculus,rattus_norvegicus,caenorhabditis_elegans,equus_caballus,capra_hircus,drosophila_melanogaster,macaca_mulatta,ovis_aries,sus_scrofa,oryctolagus_cuniculus,bos_taurus,saccharomyces_cerevisiae,gallus_gallus,gasterosteus_aculeatus,danio_rerio,oryzias_latipes,anser_cygnoides,callithrix_jacchus,pan_troglodytes,pongo_abelii,meleagris_gallopavo,oreochromis_niloticus,bos_grunniens,phascolarctos_cinereus,salmo_salar,amphilophus_citrinellus,ciona_intestinalis,monodelphis_domestica,mesocricetus_auratus,scophthalmus_maximus,felis_catus,microcebus_murinus,cynoglossus_semilaevis,anolis_carolinensis,ailuropoda_melanoleuca,melopsittacus_undulatus,clupea_harengus,neolamprologus_brichardi,maylandia_zebra,haplochromis_burtoni,pundamilia_nyererei,larimichthys_crocea,chlorocebus_sabaeus} [{homo_sapiens,mus_musculus,rattus_norvegicus,caenorhabditis_elegans,equus_caballus,capra_hircus,drosophila_melanogaster,macaca_mulatta,ovis_aries,sus_scrofa,oryctolagus_cuniculus,bos_taurus,saccharomyces_cerevisiae,gallus_gallus,gasterosteus_aculeatus,danio_rerio,oryzias_latipes,anser_cygnoides,callithrix_jacchus,pan_troglodytes,pongo_abelii,meleagris_gallopavo,oreochromis_niloticus,bos_grunniens,phascolarctos_cinereus,salmo_salar,amphilophus_citrinellus,ciona_intestinalis,monodelphis_domestica,mesocricetus_auratus,scophthalmus_maximus,felis_catus,microcebus_murinus,cynoglossus_semilaevis,anolis_carolinensis,ailuropoda_melanoleuca,melopsittacus_undulatus,clupea_harengus,neolamprologus_brichardi,maylandia_zebra,haplochromis_burtoni,pundamilia_nyererei,larimichthys_crocea,chlorocebus_sabaeus} ...]\n",
      "                        Reference or references from which species (default:\n",
      "                        homo_spaiens)\n",
      "  --indexs {bwa,hisat2,samtools,star,picard} [{bwa,hisat2,samtools,star,picard} ...]\n",
      "                        Using which software(s) to create indexes (default:\n",
      "                        samtools)\n",
      "  --reference-version REFERENCE_VERSION, -rv REFERENCE_VERSION\n",
      "                        For homo_spaiens, version=75 is the last version of\n",
      "                        Grch37 reference, you can check the version in\n",
      "                        ftp://ftp.ensembl.org/pub/ (default: 99)\n",
      "  --outdir OUTDIR, -o OUTDIR\n",
      "                        Reference and indexes generated direction (default:\n",
      "                        ./)\n",
      "  --workflow WORKFLOW, -w WORKFLOW\n",
      "                        Workflow path (default: sqlite:////sqlite.db)\n",
      "  --thread THREAD, -t THREAD\n",
      "                        Thread number (default: 4)\n"
     ]
    },
    {
     "ename": "SystemExit",
     "evalue": "0",
     "output_type": "error",
     "traceback": [
      "An exception has occurred, use %tb to see the full traceback.\n",
      "\u001b[0;31mSystemExit\u001b[0m\u001b[0;31m:\u001b[0m 0\n"
     ]
    },
    {
     "name": "stderr",
     "output_type": "stream",
     "text": [
      "/Users/logan/.conda/envs/nbdev-cd/lib/python3.7/site-packages/IPython/core/interactiveshell.py:3339: UserWarning: To exit: use 'exit', 'quit', or Ctrl-D.\n",
      "  warn(\"To exit: use 'exit', 'quit', or Ctrl-D.\", stacklevel=1)\n"
     ]
    }
   ],
   "source": [
    "args=get_args('-h')"
   ]
  },
  {
   "cell_type": "code",
   "execution_count": null,
   "metadata": {},
   "outputs": [],
   "source": [
    "# export \n",
    "\n",
    "def file_exists(f):\n",
    "    return os.path.exists(f)"
   ]
  },
  {
   "cell_type": "code",
   "execution_count": null,
   "metadata": {},
   "outputs": [
    {
     "data": {
      "text/plain": [
       "True"
      ]
     },
     "execution_count": null,
     "metadata": {},
     "output_type": "execute_result"
    }
   ],
   "source": [
    "file_exists('./00_utils.ipynb')\n"
   ]
  },
  {
   "cell_type": "code",
   "execution_count": null,
   "metadata": {},
   "outputs": [],
   "source": [
    "# export\n",
    "\n",
    "def get_ffp(species):\n",
    "    return re.compile(defaults.fasta_file_pattern.format(species=species),re.IGNORECASE)\n",
    "\n",
    "def get_gfp(species):\n",
    "    return re.compile(defaults.gtf_file_pattern.format(species=species),re.IGNORECASE)"
   ]
  },
  {
   "cell_type": "code",
   "execution_count": null,
   "metadata": {},
   "outputs": [],
   "source": [
    "# export\n",
    "\n",
    "def get_likely_file_from_ftp(ftp,version,species,ftype,dtype,pattern):\n",
    "    if ftype == 'fasta':\n",
    "        direction='/pub/release-{version}/{ftype}/{species}/{dtype}/'.format(\n",
    "            version=version,\n",
    "            species=species,\n",
    "            ftype=ftype,\n",
    "            dtype=dtype)\n",
    "    elif ftype == 'gtf':\n",
    "        direction='/pub/release-{version}/{ftype}/{species}/'.format(\n",
    "            version=version,\n",
    "            species=species,\n",
    "            ftype=ftype)\n",
    "    try:\n",
    "       \n",
    "        ftp.cwd(direction)\n",
    "        files = ftp.nlst()\n",
    "        for f in files:\n",
    "#                 print(f)\n",
    "            if len(pattern.findall(f))>0:\n",
    "                return 'ftp://'+ftp_server+direction+f\n",
    "        raise ValueError('No fit ' + ftype +' file in ftp://'+ftp_server+direction)\n",
    "    except ftplib.all_errors as e:\n",
    "        print(e)\n",
    "        sys.exit(1)\n",
    "        "
   ]
  },
  {
   "cell_type": "code",
   "execution_count": null,
   "metadata": {},
   "outputs": [
    {
     "name": "stdout",
     "output_type": "stream",
     "text": [
      "homo_sapiens\n"
     ]
    }
   ],
   "source": [
    "with ftplib.FTP(defaults.ensembl_ftp) as ftp:\n",
    "    ftp.login()\n",
    "    for s in defaults.species:\n",
    "        print(s)\n",
    "        print(get_likely_file_from_ftp(ftp,'99',s,'fasta','dna',get_ffp(s)))\n",
    "        print(get_likely_file_from_ftp(ftp,'99',s,'gtf',None,get_gfp(s)))\n",
    "    "
   ]
  },
  {
   "cell_type": "code",
   "execution_count": null,
   "metadata": {},
   "outputs": [],
   "source": [
    "#hide\n",
    "from nbdev.export import notebook2script\n",
    "notebook2script()"
   ]
  },
  {
   "cell_type": "code",
   "execution_count": null,
   "metadata": {},
   "outputs": [],
   "source": []
  }
 ],
 "metadata": {
  "kernelspec": {
   "display_name": "Python 3",
   "language": "python",
   "name": "python3"
  }
 },
 "nbformat": 4,
 "nbformat_minor": 2
}

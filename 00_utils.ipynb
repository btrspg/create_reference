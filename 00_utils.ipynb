{
 "cells": [
  {
   "cell_type": "code",
   "execution_count": null,
   "metadata": {},
   "outputs": [],
   "source": [
    "# default_exp utils"
   ]
  },
  {
   "cell_type": "code",
   "execution_count": null,
   "metadata": {},
   "outputs": [],
   "source": [
    "%load_ext autoreload\n",
    "%autoreload 2"
   ]
  },
  {
   "cell_type": "markdown",
   "metadata": {},
   "source": [
    "# create references\n",
    "\n",
    "> API details."
   ]
  },
  {
   "cell_type": "code",
   "execution_count": null,
   "metadata": {},
   "outputs": [],
   "source": [
    "#hide\n",
    "from nbdev.showdoc import *\n",
    "import random"
   ]
  },
  {
   "cell_type": "code",
   "execution_count": null,
   "metadata": {},
   "outputs": [],
   "source": [
    "# export\n",
    "import os\n",
    "import sys\n",
    "import re\n",
    "import argparse\n",
    "import ftplib\n",
    "from create_reference import defaults"
   ]
  },
  {
   "cell_type": "code",
   "execution_count": null,
   "metadata": {},
   "outputs": [],
   "source": [
    "# export\n",
    "def get_args():\n",
    "    parser = argparse.ArgumentParser(prog='fetchr',\n",
    "                                     description='Fetch and Generate references for bioinformatics analysis',\n",
    "                                     formatter_class=argparse.ArgumentDefaultsHelpFormatter\n",
    "                                    )\n",
    "    ana_parser = parser.add_argument_group('Analysis parameters')\n",
    "    ana_parser.add_argument('--species',nargs='+',choices=defaults.species,default=['homo_sapiens','mus_musculus'],\n",
    "                       help='Reference or references from which species')\n",
    "    ana_parser.add_argument('--indexs',nargs='+',choices=defaults.softwares,default='samtools',\n",
    "                       help='Using which software(s) to create indexes')\n",
    "    ana_parser.add_argument('--reference-version','-rv',default=99,type=int,\n",
    "                       help='For homo_spaiens, version=75 is the last version of Grch37 reference, \\\n",
    "                       you can check the version in ftp://ftp.ensembl.org/pub/')\n",
    "    ana_parser.add_argument('--outdir','-o',default='./',\n",
    "                       help='Reference and indexes generated direction')\n",
    "    ana_parser.add_argument('--thread','-t',default=4,type=int,\n",
    "                       help='Thread number')\n",
    "    ana_parser.add_argument('--read-length','-rl',nargs='+',type=int,default=[50,100,150],\n",
    "                           help='STAR build index for different read length')\n",
    "    conf_parser=parser.add_argument_group('Config parameters')\n",
    "    conf_parser.add_argument('--bwa',default='bwa',type=str,\n",
    "                            help='bwa execute path')\n",
    "    conf_parser.add_argument('--samtools',default='samtools',type=str,\n",
    "                            help='samtools execute path')\n",
    "    conf_parser.add_argument('--bowtie',default='bowtie',type=str,\n",
    "                            help='bowtie execute path')\n",
    "    conf_parser.add_argument('--bowtie2',default='bowtie2',type=str,\n",
    "                            help='bowtie2 execute path')\n",
    "    conf_parser.add_argument('--hisat2',default='hisat2',type=str,\n",
    "                            help='hisat2 execute path')\n",
    "    conf_parser.add_argument('--picard',default='picard',type=str,\n",
    "                            help='picard execute path, hint: this picard was install by conda')\n",
    "    conf_parser.add_argument('--star',default='STAR',type=str,\n",
    "                            help='STAR execute path')\n",
    "    return parser.parse_args()\n"
   ]
  },
  {
   "cell_type": "code",
   "execution_count": null,
   "metadata": {},
   "outputs": [],
   "source": [
    "# args=get_args('-h')"
   ]
  },
  {
   "cell_type": "code",
   "execution_count": null,
   "metadata": {},
   "outputs": [],
   "source": [
    "# export \n",
    "\n",
    "def file_exists(f):\n",
    "    return os.path.exists(f)"
   ]
  },
  {
   "cell_type": "code",
   "execution_count": null,
   "metadata": {},
   "outputs": [
    {
     "data": {
      "text/plain": [
       "True"
      ]
     },
     "execution_count": null,
     "metadata": {},
     "output_type": "execute_result"
    }
   ],
   "source": [
    "file_exists('./00_utils.ipynb')\n"
   ]
  },
  {
   "cell_type": "code",
   "execution_count": null,
   "metadata": {},
   "outputs": [],
   "source": [
    "# export\n",
    "\n",
    "def get_ffp(species):\n",
    "    return re.compile(defaults.fasta_file_pattern.format(species=species),re.IGNORECASE)\n",
    "\n",
    "def get_gfp(species,version):\n",
    "    return re.compile(defaults.gtf_file_pattern.format(species=species,version=version),re.IGNORECASE)"
   ]
  },
  {
   "cell_type": "code",
   "execution_count": null,
   "metadata": {},
   "outputs": [],
   "source": [
    "# export\n",
    "\n",
    "def get_likely_file_from_ftp(ftp,ftp_server,version,species,ftype,dtype,pattern):\n",
    "    second_p = ''\n",
    "    first_p = ''\n",
    "    gtf_f = ''\n",
    "    if ftype == 'fasta':\n",
    "        direction='/pub/release-{version}/{ftype}/{species}/{dtype}/'.format(\n",
    "            version=version,\n",
    "            species=species,\n",
    "            ftype=ftype,\n",
    "            dtype=dtype)\n",
    "    elif ftype == 'gtf':\n",
    "        direction='/pub/release-{version}/{ftype}/{species}/'.format(\n",
    "            version=version,\n",
    "            species=species,\n",
    "            ftype=ftype)\n",
    "    try:\n",
    "#         print(direction)\n",
    "        ftp.cwd(direction)\n",
    "        files = ftp.nlst()\n",
    "        for f in files:\n",
    "#                 print(f)\n",
    "            if len(pattern.findall(f))>0:\n",
    "                if '.toplevel.' in f:\n",
    "                    second_p = f\n",
    "                if '.primary_assembly.' in f:\n",
    "                    first_p = f\n",
    "                if '.gtf.gz' in f:\n",
    "                    gtf_f = f\n",
    "                \n",
    "    except ftplib.all_errors as e:\n",
    "        print(e)\n",
    "        sys.exit(1)\n",
    "    \n",
    "    if first_p != '':\n",
    "        return 'ftp://'+ftp_server+direction+first_p\n",
    "    elif second_p != '':\n",
    "        return 'ftp://'+ftp_server+direction+second_p\n",
    "    elif gtf_f != '':\n",
    "        return 'ftp://'+ftp_server+direction+gtf_f\n",
    "    else:\n",
    "        raise ValueError('No fit ' + ftype +' file in ftp://'+ftp_server+direction)\n",
    "        "
   ]
  },
  {
   "cell_type": "code",
   "execution_count": null,
   "metadata": {},
   "outputs": [
    {
     "name": "stdout",
     "output_type": "stream",
     "text": [
      "re.compile('homo_sapiens.+?99.gtf.gz', re.IGNORECASE)\n",
      "larimichthys_crocea\n",
      "ftp://ftp.ensembl.org/pub/release-99/fasta/larimichthys_crocea/dna/Larimichthys_crocea.L_crocea_2.0.dna.primary_assembly.XXIV.fa.gz\n",
      "ftp://ftp.ensembl.org/pub/release-99/gtf/larimichthys_crocea/Larimichthys_crocea.L_crocea_2.0.99.gtf.gz\n",
      "macaca_mulatta\n",
      "ftp://ftp.ensembl.org/pub/release-99/fasta/macaca_mulatta/dna/Macaca_mulatta.Mmul_10.dna.primary_assembly.Y.fa.gz\n",
      "ftp://ftp.ensembl.org/pub/release-99/gtf/macaca_mulatta/Macaca_mulatta.Mmul_10.99.gtf.gz\n"
     ]
    }
   ],
   "source": [
    "print(get_gfp('homo_sapiens',99))\n",
    "with ftplib.FTP(defaults.ensembl_ftp) as ftp:\n",
    "    ftp.login()\n",
    "    for s in random.sample(defaults.species,2):\n",
    "        print(s)\n",
    "        print(get_likely_file_from_ftp(ftp,defaults.ensembl_ftp,'99',s,'fasta','dna',get_ffp(s)))\n",
    "        print(get_likely_file_from_ftp(ftp,defaults.ensembl_ftp,'99',s,'gtf',None,get_gfp(s,99)))\n"
   ]
  },
  {
   "cell_type": "code",
   "execution_count": null,
   "metadata": {},
   "outputs": [],
   "source": [
    "# export\n",
    "\n",
    "def get_local_files(outdir,species,version):\n",
    "    sample_outdir='{outdir}/{species}/{version}'.format(outdir=outdir,species=species,version=version)\n",
    "    local_genome_fasta='{sample_outdir}/genome.fa'.format(sample_outdir=sample_outdir)\n",
    "    local_transcriptome_gtf = '{sample_outdir}/transcriptome.gtf'.format(sample_outdir=sample_outdir)\n",
    "    bwa_idx = local_genome_fasta,\n",
    "    samtools_idx = local_genome_fasta+'.fai'\n",
    "    picard_idx = local_genome_fasta.replace('.fa','.dict')\n",
    "    local_genome_fasta_gz = local_genome_fasta+'.gz'\n",
    "    local_transcriptome_gtf_gz = local_transcriptome_gtf+'.gz'\n",
    "    bowtie_idx = '{sample_outdir}/bowtie_idx/genome'.format(sample_outdir=sample_outdir)\n",
    "    bowtie2_idx = '{sample_outdir}/bowtie2_idx/genome'.format(sample_outdir=sample_outdir)\n",
    "    hisat2_idx = '{sample_outdir}/hisat2_idx/genome'.format(sample_outdir=sample_outdir)\n",
    "    star_idx_prefix= '{sample_outdir}/STAR_idx'.format(sample_outdir=sample_outdir)\n",
    "    rrna_bed = '{sample_outdir}/rRNA.bed'.format(sample_outdir=sample_outdir)\n",
    "    rrna_intervals = '{sample_outdir}/rRNA.interval_list'.format(sample_outdir=sample_outdir)\n",
    "    tmp = '{sample_outdir}/tmp'.format(sample_outdir=sample_outdir)\n",
    "    os.makedirs(sample_outdir,exist_ok=True)\n",
    "    return locals()"
   ]
  },
  {
   "cell_type": "code",
   "execution_count": null,
   "metadata": {},
   "outputs": [
    {
     "data": {
      "text/plain": [
       "{'outdir': 'outdir',\n",
       " 'species': 'human',\n",
       " 'version': 99,\n",
       " 'sample_outdir': 'outdir/human/99',\n",
       " 'local_genome_fasta': 'outdir/human/99/genome.fa',\n",
       " 'local_transcriptome_gtf': 'outdir/human/99/transcriptome.gtf',\n",
       " 'bwa_idx': ('outdir/human/99/genome.fa',),\n",
       " 'samtools_idx': 'outdir/human/99/genome.fa.fai',\n",
       " 'picard_idx': 'outdir/human/99/genome.dict',\n",
       " 'local_genome_fasta_gz': 'outdir/human/99/genome.fa.gz',\n",
       " 'local_transcriptome_gtf_gz': 'outdir/human/99/transcriptome.gtf.gz',\n",
       " 'bowtie_idx': 'outdir/human/99/bowtie_idx/genome',\n",
       " 'bowtie2_idx': 'outdir/human/99/bowtie2_idx/genome',\n",
       " 'hisat2_idx': 'outdir/human/99/hisat2_idx/genome',\n",
       " 'star_idx_prefix': 'outdir/human/99/STAR_idx',\n",
       " 'rrna_bed': 'outdir/human/99/rRNA.bed',\n",
       " 'rrna_intervals': 'outdir/human/99/rRNA.interval_list',\n",
       " 'tmp': 'outdir/human/99/tmp'}"
      ]
     },
     "execution_count": null,
     "metadata": {},
     "output_type": "execute_result"
    }
   ],
   "source": [
    "\n",
    "para=get_local_files('outdir','human',99)\n",
    "para"
   ]
  },
  {
   "cell_type": "code",
   "execution_count": null,
   "metadata": {},
   "outputs": [],
   "source": [
    "# export\n",
    "\n",
    "def get_paras(args,ftp,ftp_server):\n",
    "    paras=[]\n",
    "    for sp in args.species:\n",
    "        para={}\n",
    "        para['species']=sp\n",
    "        para['version']=args.reference_version\n",
    "        para['read_length'] = args.read_length\n",
    "        para['link_genome_fasta']=get_likely_file_from_ftp(ftp,\n",
    "                                                           ftp_server,\n",
    "                                                           args.reference_version,\n",
    "                                                           sp,\n",
    "                                                           'fasta',\n",
    "                                                           'dna',\n",
    "                                                           get_ffp(sp))\n",
    "        para['link_transcriptome_gtf']=get_likely_file_from_ftp(ftp,\n",
    "                                                                ftp_server,\n",
    "                                                                args.reference_version,\n",
    "                                                                sp,'gtf',\n",
    "                                                                None,\n",
    "                                                                get_gfp(sp,\n",
    "                                                                        args.reference_version))\n",
    "        para['local_files']= get_local_files(\n",
    "            args.outdir,\n",
    "            sp,\n",
    "            args.reference_version)\n",
    "        \n",
    "        paras.append(para)\n",
    "        \n",
    "    return paras\n"
   ]
  },
  {
   "cell_type": "code",
   "execution_count": null,
   "metadata": {},
   "outputs": [],
   "source": [
    "# args=get_args()"
   ]
  },
  {
   "cell_type": "code",
   "execution_count": null,
   "metadata": {},
   "outputs": [
    {
     "name": "stdout",
     "output_type": "stream",
     "text": [
      "['cdna', 'cds', 'dna', 'dna_index', 'ncrna', 'pep']\n",
      "[{'species': 'homo_sapiens', 'version': '99', 'read_length': [50, 100, 150], 'link_genome_fasta': 'ftp://ftp.ensembl.org/pub/release-99/fasta/homo_sapiens/dna/Homo_sapiens.GRCh38.dna.primary_assembly.fa.gz', 'link_transcriptome_gtf': 'ftp://ftp.ensembl.org/pub/release-99/gtf/homo_sapiens/Homo_sapiens.GRCh38.99.gtf.gz', 'local_files': {'outdir': '/tmp/outdir', 'species': 'homo_sapiens', 'version': '99', 'sample_outdir': '/tmp/outdir/homo_sapiens/99', 'local_genome_fasta': '/tmp/outdir/homo_sapiens/99/genome.fa', 'local_transcriptome_gtf': '/tmp/outdir/homo_sapiens/99/transcriptome.gtf', 'bwa_idx': ('/tmp/outdir/homo_sapiens/99/genome.fa',), 'samtools_idx': '/tmp/outdir/homo_sapiens/99/genome.fa.fai', 'picard_idx': '/tmp/outdir/homo_sapiens/99/genome.dict', 'local_genome_fasta_gz': '/tmp/outdir/homo_sapiens/99/genome.fa.gz', 'local_transcriptome_gtf_gz': '/tmp/outdir/homo_sapiens/99/transcriptome.gtf.gz', 'bowtie_idx': '/tmp/outdir/homo_sapiens/99/bowtie_idx/genome', 'bowtie2_idx': '/tmp/outdir/homo_sapiens/99/bowtie2_idx/genome', 'hisat2_idx': '/tmp/outdir/homo_sapiens/99/hisat2_idx/genome', 'star_idx_prefix': '/tmp/outdir/homo_sapiens/99/STAR_idx', 'rrna_bed': '/tmp/outdir/homo_sapiens/99/rRNA.bed', 'rrna_intervals': '/tmp/outdir/homo_sapiens/99/rRNA.interval_list', 'tmp': '/tmp/outdir/homo_sapiens/99/tmp'}}]\n"
     ]
    }
   ],
   "source": [
    "# hide\n",
    "from collections import namedtuple\n",
    "args=namedtuple('args',['species','reference_version','outdir','read_length'])\n",
    "args.species=['homo_sapiens']\n",
    "args.reference_version='99'\n",
    "args.outdir='/tmp/outdir'\n",
    "args.read_length=[50,100,150]\n",
    "\n",
    "with ftplib.FTP(defaults.ensembl_ftp) as ftp:\n",
    "    ftp.login()\n",
    "    ftp.cwd('/pub/release-99/fasta/homo_sapiens')\n",
    "    print(ftp.nlst())\n",
    "    print(get_paras(args,ftp,defaults.ensembl_ftp))"
   ]
  },
  {
   "cell_type": "code",
   "execution_count": null,
   "metadata": {},
   "outputs": [
    {
     "name": "stdout",
     "output_type": "stream",
     "text": [
      "Converted 00_utils.ipynb.\n",
      "Converted 01_defaults.ipynb.\n",
      "Converted 02_tasks.ipynb.\n",
      "Converted 03_commands.ipynb.\n",
      "Converted 04_pipelines.ipynb.\n",
      "Converted 05_recipes.ipynb.\n",
      "Converted index.ipynb.\n"
     ]
    }
   ],
   "source": [
    "#hide\n",
    "from nbdev.export import notebook2script\n",
    "notebook2script()"
   ]
  },
  {
   "cell_type": "code",
   "execution_count": null,
   "metadata": {},
   "outputs": [],
   "source": []
  }
 ],
 "metadata": {
  "kernelspec": {
   "display_name": "Python 3",
   "language": "python",
   "name": "python3"
  }
 },
 "nbformat": 4,
 "nbformat_minor": 2
}

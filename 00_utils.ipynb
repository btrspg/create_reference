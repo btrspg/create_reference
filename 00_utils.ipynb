{
 "cells": [
  {
   "cell_type": "code",
   "execution_count": null,
   "metadata": {},
   "outputs": [],
   "source": [
    "# default_exp utils"
   ]
  },
  {
   "cell_type": "code",
   "execution_count": null,
   "metadata": {},
   "outputs": [],
   "source": [
    "%load_ext autoreload\n",
    "%autoreload 2"
   ]
  },
  {
   "cell_type": "markdown",
   "metadata": {},
   "source": [
    "# create references\n",
    "\n",
    "> API details."
   ]
  },
  {
   "cell_type": "code",
   "execution_count": null,
   "metadata": {},
   "outputs": [],
   "source": [
    "#hide\n",
    "from nbdev.showdoc import *\n",
    "import random"
   ]
  },
  {
   "cell_type": "code",
   "execution_count": null,
   "metadata": {},
   "outputs": [],
   "source": [
    "# export\n",
    "import os\n",
    "import sys\n",
    "import re\n",
    "import argparse\n",
    "import ftplib\n",
    "from create_reference import defaults"
   ]
  },
  {
   "cell_type": "code",
   "execution_count": null,
   "metadata": {},
   "outputs": [],
   "source": [
    "# export\n",
    "def get_args():\n",
    "    parser = argparse.ArgumentParser(prog='fetchr',\n",
    "                                     description='Fetch and Generate references for bioinformatics analysis',\n",
    "                                     formatter_class=argparse.ArgumentDefaultsHelpFormatter\n",
    "                                    )\n",
    "    \n",
    "    parser.add_argument('--species',nargs='+',choices=defaults.species,default=['homo_sapiens','mus_musculus'],\n",
    "                       help='Reference or references from which species')\n",
    "    parser.add_argument('--indexs',nargs='+',choices=defaults.softwares,default='samtools',\n",
    "                       help='Using which software(s) to create indexes')\n",
    "    parser.add_argument('--reference-version','-rv',default=99,type=int,\n",
    "                       help='For homo_spaiens, version=75 is the last version of Grch37 reference, \\\n",
    "                       you can check the version in ftp://ftp.ensembl.org/pub/')\n",
    "    parser.add_argument('--outdir','-o',default='./',\n",
    "                       help='Reference and indexes generated direction')\n",
    "    parser.add_argument('--thread','-t',default=4,\n",
    "                       help='Thread number')\n",
    "    return parser.parse_args()\n"
   ]
  },
  {
   "cell_type": "code",
   "execution_count": null,
   "metadata": {},
   "outputs": [],
   "source": [
    "# args=get_args('-h')"
   ]
  },
  {
   "cell_type": "code",
   "execution_count": null,
   "metadata": {},
   "outputs": [],
   "source": [
    "# export \n",
    "\n",
    "def file_exists(f):\n",
    "    return os.path.exists(f)"
   ]
  },
  {
   "cell_type": "code",
   "execution_count": null,
   "metadata": {},
   "outputs": [
    {
     "data": {
      "text/plain": [
       "True"
      ]
     },
     "execution_count": null,
     "metadata": {},
     "output_type": "execute_result"
    }
   ],
   "source": [
    "file_exists('./00_utils.ipynb')\n"
   ]
  },
  {
   "cell_type": "code",
   "execution_count": null,
   "metadata": {},
   "outputs": [],
   "source": [
    "# export\n",
    "\n",
    "def get_ffp(species):\n",
    "    return re.compile(defaults.fasta_file_pattern.format(species=species),re.IGNORECASE)\n",
    "\n",
    "def get_gfp(species,version):\n",
    "    return re.compile(defaults.gtf_file_pattern.format(species=species,version=version),re.IGNORECASE)"
   ]
  },
  {
   "cell_type": "code",
   "execution_count": null,
   "metadata": {},
   "outputs": [],
   "source": [
    "# export\n",
    "\n",
    "def get_likely_file_from_ftp(ftp,ftp_server,version,species,ftype,dtype,pattern):\n",
    "    if ftype == 'fasta':\n",
    "        direction='/pub/release-{version}/{ftype}/{species}/{dtype}/'.format(\n",
    "            version=version,\n",
    "            species=species,\n",
    "            ftype=ftype,\n",
    "            dtype=dtype)\n",
    "    elif ftype == 'gtf':\n",
    "        direction='/pub/release-{version}/{ftype}/{species}/'.format(\n",
    "            version=version,\n",
    "            species=species,\n",
    "            ftype=ftype)\n",
    "    try:\n",
    "#         print(direction)\n",
    "        ftp.cwd(direction)\n",
    "        files = ftp.nlst()\n",
    "        for f in files:\n",
    "#                 print(f)\n",
    "            if len(pattern.findall(f))>0:\n",
    "                return 'ftp://'+ftp_server+direction+f\n",
    "        raise ValueError('No fit ' + ftype +' file in ftp://'+ftp_server+direction)\n",
    "    except ftplib.all_errors as e:\n",
    "        print(e)\n",
    "        sys.exit(1)\n",
    "        "
   ]
  },
  {
   "cell_type": "code",
   "execution_count": null,
   "metadata": {},
   "outputs": [
    {
     "name": "stdout",
     "output_type": "stream",
     "text": [
      "re.compile('homo_sapiens.+?99.gtf.gz', re.IGNORECASE)\n",
      "anser_cygnoides\n",
      "ftp://ftp.ensembl.org/pub/release-99/fasta/anser_cygnoides/dna/Anser_cygnoides.GooseV1.0.dna.toplevel.fa.gz\n",
      "ftp://ftp.ensembl.org/pub/release-99/gtf/anser_cygnoides/Anser_cygnoides.GooseV1.0.99.gtf.gz\n",
      "pongo_abelii\n",
      "ftp://ftp.ensembl.org/pub/release-99/fasta/pongo_abelii/dna/Pongo_abelii.PPYG2.dna.toplevel.fa.gz\n"
     ]
    }
   ],
   "source": [
    "print(get_gfp('homo_sapiens',99))\n",
    "with ftplib.FTP(defaults.ensembl_ftp) as ftp:\n",
    "    ftp.login()\n",
    "    for s in random.sample(defaults.species,2):\n",
    "        print(s)\n",
    "        print(get_likely_file_from_ftp(ftp,defaults.ensembl_ftp,'99',s,'fasta','dna',get_ffp(s)))\n",
    "        print(get_likely_file_from_ftp(ftp,defaults.ensembl_ftp,'99',s,'gtf',None,get_gfp(s,99)))\n"
   ]
  },
  {
   "cell_type": "code",
   "execution_count": null,
   "metadata": {},
   "outputs": [],
   "source": [
    "# export\n",
    "\n",
    "def get_local_files(outdir,species,version):\n",
    "    sample_outdir='{outdir}/{species}/{version}'.format(outdir=outdir,species=species,version=version)\n",
    "    local_genome_fasta='{sample_outdir}/genome.fa.gz'.format(sample_outdir=sample_outdir)\n",
    "    local_transcriptome_gtf = '{sample_outdir}/transcriptome.gtf.gz'.format(sample_outdir=sample_outdir)\n",
    "    os.makedirs(sample_outdir,exist_ok=True)\n",
    "    return local_genome_fasta,local_transcriptome_gtf"
   ]
  },
  {
   "cell_type": "code",
   "execution_count": null,
   "metadata": {},
   "outputs": [],
   "source": [
    "# export\n",
    "\n",
    "def get_paras(args,ftp,ftp_server):\n",
    "    paras=[]\n",
    "    for sp in args.species:\n",
    "        para={}\n",
    "        para['species']=sp\n",
    "        para['link_genome_fasta']=get_likely_file_from_ftp(ftp,\n",
    "                                                           ftp_server,\n",
    "                                                           args.reference_version,\n",
    "                                                           sp,\n",
    "                                                           'fasta',\n",
    "                                                           'dna',\n",
    "                                                           get_ffp(sp))\n",
    "        para['link_transcriptome_gtf']=get_likely_file_from_ftp(ftp,\n",
    "                                                                ftp_server,\n",
    "                                                                args.reference_version,\n",
    "                                                                sp,'gtf',\n",
    "                                                                None,\n",
    "                                                                get_gfp(sp,\n",
    "                                                                        args.reference_version))\n",
    "        para['local_genome_fasta'],para['local_transcriptome_gtf'] = get_local_files(args.outdir,\n",
    "                                                                                     sp,\n",
    "                                                                                     args.reference_version)\n",
    "        paras.append(para)\n",
    "        \n",
    "    return paras"
   ]
  },
  {
   "cell_type": "code",
   "execution_count": null,
   "metadata": {},
   "outputs": [],
   "source": [
    "args=get_args()"
   ]
  },
  {
   "cell_type": "code",
   "execution_count": null,
   "metadata": {},
   "outputs": [],
   "source": [
    "with ftplib.FTP(defaults.ensembl_ftp) as ftp:\n",
    "    ftp.login()\n",
    "#     ftp.cwd('/pub/release-99/fasta/homo_sapiens')\n",
    "#     print(ftp.nlst())\n",
    "#     ftp.cwd('/pub/release-99/fasta/homo_spaiens/dna/')\n",
    "    print(get_paras(args,ftp,defaults.ensembl_ftp))"
   ]
  },
  {
   "cell_type": "code",
   "execution_count": null,
   "metadata": {},
   "outputs": [],
   "source": [
    "#hide\n",
    "from nbdev.export import notebook2script\n",
    "notebook2script()"
   ]
  },
  {
   "cell_type": "code",
   "execution_count": null,
   "metadata": {},
   "outputs": [],
   "source": []
  }
 ],
 "metadata": {
  "kernelspec": {
   "display_name": "Python 3",
   "language": "python",
   "name": "python3"
  }
 },
 "nbformat": 4,
 "nbformat_minor": 2
}

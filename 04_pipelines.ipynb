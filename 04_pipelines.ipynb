{
 "cells": [
  {
   "cell_type": "code",
   "execution_count": null,
   "metadata": {},
   "outputs": [],
   "source": [
    "# default_exp pipelines"
   ]
  },
  {
   "cell_type": "code",
   "execution_count": null,
   "metadata": {},
   "outputs": [],
   "source": [
    "%load_ext autoreload\n",
    "%autoreload 2"
   ]
  },
  {
   "cell_type": "code",
   "execution_count": null,
   "metadata": {},
   "outputs": [],
   "source": [
    "# export\n",
    "import os\n",
    "import sys\n",
    "import ftplib\n",
    "from cosmos.api import Cosmos\n",
    "from create_reference.recipes import recipe\n",
    "from create_reference.utils import get_args,get_paras\n",
    "from create_reference import defaults"
   ]
  },
  {
   "cell_type": "code",
   "execution_count": null,
   "metadata": {},
   "outputs": [],
   "source": [
    "# export \n",
    "\n",
    "def simple_reference():\n",
    "    args = get_args()\n",
    "    with ftplib.FTP(defaults.ensembl_ftp) as ftp:\n",
    "        ftp.login()\n",
    "        paras = get_paras(args,ftp,defaults.ensembl_ftp)\n",
    "        \n",
    "        \n",
    "    cosmos=Cosmos('sqlite:///{outdir}/sqlite.db'.format(outdir=args.outdir),\n",
    "                  default_max_attempts=2)\n",
    "    cosmos.initdb()\n",
    "\n",
    "    workflow_name='fetchr_reference'\n",
    "    def change_log_dir(task, log_dir='{outdir}/log'.format(outdir=args.outdir)):\n",
    "        return os.path.abspath(os.path.join(log_dir, task.stage.name, str(task.uid)))\n",
    "\n",
    "    workflow = cosmos.start(workflow_name,\n",
    "                            skip_confirm=True,\n",
    "                            primary_log_path='{outdir}/log/workflow.log'.format(outdir=args.outdir))\n",
    "    recipe(workflow,paras,args)\n",
    "    workflow.make_output_dirs()\n",
    "    workflow.run(max_cores=args.thread, log_out_dir_func=change_log_dir)\n",
    "    sys.exit(0 if workflow.successful else 1)"
   ]
  },
  {
   "cell_type": "code",
   "execution_count": null,
   "metadata": {},
   "outputs": [
    {
     "name": "stderr",
     "output_type": "stream",
     "text": [
      "INFO: 2020-04-09 12:31:05: Resuming <Workflow[1] fetchr_reference>\n",
      "INFO: 2020-04-09 12:31:05: Deleting 4 unsuccessful task(s) from SQL database, delete_files=False\n",
      "INFO: 2020-04-09 12:31:05: Committing SQL session...\n",
      "INFO: 2020-04-09 12:31:05: Execution Command: /Users/logan/.conda/envs/nbdev-cd/lib/python3.7/site-packages/ipykernel_launcher.py -f /Users/logan/Library/Jupyter/runtime/kernel-74a4e765-c44b-4929-90c1-759c8ecb2d9a.json\n",
      "INFO: 2020-04-09 12:31:05: Preparing to run <Workflow[1] fetchr_reference> using DRM `local`, cwd is `/Users/logan/PycharmProjects/create_reference`\n",
      "INFO: 2020-04-09 12:31:05: Running as logan@BTRspg, pid 28477\n",
      "INFO: 2020-04-09 12:31:05: <Stage[1] get_fasta> Has not been attempted\n",
      "INFO: 2020-04-09 12:31:05: <Stage[2] get_gtf> Has not been attempted\n",
      "INFO: 2020-04-09 12:31:05: Skipping 0 successful tasks...\n",
      "INFO: 2020-04-09 12:31:05: Ensuring there are enough cores...\n",
      "INFO: 2020-04-09 12:31:05: Committing to SQL db...\n",
      "INFO: 2020-04-09 12:31:05: Executing TaskGraph\n",
      "INFO: 2020-04-09 12:31:05: <Stage[1] get_fasta> Running (0/2 Tasks were successful)\n",
      "INFO: 2020-04-09 12:31:05: <Task[1] get_fasta(uid='get_fasta_homo_sapiens')> Submitted to the job manager. drm='local'; drm_jobid='28490'; job_class=None; queue=None\n",
      "INFO: 2020-04-09 12:31:05: <Task[2] get_fasta(uid='get_fasta_mus_musculus')> Submitted to the job manager. drm='local'; drm_jobid='28493'; job_class=None; queue=None\n",
      "INFO: 2020-04-09 12:31:05: <Stage[2] get_gtf> Running (0/2 Tasks were successful)\n",
      "INFO: 2020-04-09 12:31:05: <Task[3] get_gtf(uid='get_gtf_homo_sapiens')> Submitted to the job manager. drm='local'; drm_jobid='28496'; job_class=None; queue=None\n",
      "INFO: 2020-04-09 12:31:05: <Task[4] get_gtf(uid='get_gtf_mus_musculus')> Submitted to the job manager. drm='local'; drm_jobid='28499'; job_class=None; queue=None\n",
      "WARNING: 2020-04-09 12:31:05: <Task[1] get_fasta(uid='get_fasta_homo_sapiens')> attempt #1 failed (max_attempts=1)\n",
      "WARNING: 2020-04-09 12:31:05: Task Info:\n",
      "<EXIT_STATUS=\"127\">\n",
      "<COMMAND path=\"/Users/logan/PycharmProjects/create_reference/log/get_fasta/get_fasta_homo_sapiens/command_attempt1.bash\" drm_jobID=\"28490\">\n",
      "<PARAMS>\n",
      "{ 'filename': '{sample_outdir}/genome.fa.gz',\n",
      "  'link': 'ftp://ftp.ensembl.org/pub/release-99/fasta/homo_sapiens/dna/Homo_sapiens.GRCh38.dna.toplevel.fa.gz'}\n",
      "</PARAMS>\n",
      "#!/bin/bash\n",
      "set -e\n",
      "set -o pipefail\n",
      "trap : USR1 USR2 XCPU\n",
      "echo \"This task is running as pid $$ on ${HOSTNAME}\" >&2\n",
      "echo \"CWD is `pwd`\" >&2\n",
      "\n",
      "wget -c ftp://ftp.ensembl.org/pub/release-99/fasta/homo_sapiens/dna/Homo_sapiens.GRCh38.dna.toplevel.fa.gz -O {sample_outdir}/genome.fa.gz\n",
      "</COMMAND>\n",
      "<STDOUT path=\"/Users/logan/PycharmProjects/create_reference/log/get_fasta/get_fasta_homo_sapiens/stdout_attempt1.txt\">\n",
      "\n",
      "</STDOUT>\n",
      "<STDERR path=\"/Users/logan/PycharmProjects/create_reference/log/get_fasta/get_fasta_homo_sapiens/stderr_attempt1.txt\">\n",
      "This task is running as pid 28490 on BTRspg\n",
      "CWD is /Users/logan/PycharmProjects/create_reference\n",
      "/Users/logan/PycharmProjects/create_reference/log/get_fasta/get_fasta_homo_sapiens/command_attempt1.bash: line 8: wget: command not found\n",
      "\n",
      "</STDERR>\n",
      "ERROR: 2020-04-09 12:31:05: <Task[1] get_fasta(uid='get_fasta_homo_sapiens')> has failed too many times\n",
      "INFO: 2020-04-09 12:31:05: <Stage[1] get_fasta> Running, but a task failed (0/2 Tasks were successful)\n",
      "INFO: 2020-04-09 12:31:05: 3 tasks left in the queue\n",
      "WARNING: 2020-04-09 12:31:05: <Task[2] get_fasta(uid='get_fasta_mus_musculus')> attempt #1 failed (max_attempts=1)\n",
      "WARNING: 2020-04-09 12:31:05: Task Info:\n",
      "<EXIT_STATUS=\"127\">\n",
      "<COMMAND path=\"/Users/logan/PycharmProjects/create_reference/log/get_fasta/get_fasta_mus_musculus/command_attempt1.bash\" drm_jobID=\"28493\">\n",
      "<PARAMS>\n",
      "{ 'filename': '{sample_outdir}/genome.fa.gz',\n",
      "  'link': 'ftp://ftp.ensembl.org/pub/release-99/fasta/mus_musculus/dna/Mus_musculus.GRCm38.dna.toplevel.fa.gz'}\n",
      "</PARAMS>\n",
      "#!/bin/bash\n",
      "set -e\n",
      "set -o pipefail\n",
      "trap : USR1 USR2 XCPU\n",
      "echo \"This task is running as pid $$ on ${HOSTNAME}\" >&2\n",
      "echo \"CWD is `pwd`\" >&2\n",
      "\n",
      "wget -c ftp://ftp.ensembl.org/pub/release-99/fasta/mus_musculus/dna/Mus_musculus.GRCm38.dna.toplevel.fa.gz -O {sample_outdir}/genome.fa.gz\n",
      "</COMMAND>\n",
      "<STDOUT path=\"/Users/logan/PycharmProjects/create_reference/log/get_fasta/get_fasta_mus_musculus/stdout_attempt1.txt\">\n",
      "\n",
      "</STDOUT>\n",
      "<STDERR path=\"/Users/logan/PycharmProjects/create_reference/log/get_fasta/get_fasta_mus_musculus/stderr_attempt1.txt\">\n",
      "This task is running as pid 28493 on BTRspg\n",
      "CWD is /Users/logan/PycharmProjects/create_reference\n",
      "/Users/logan/PycharmProjects/create_reference/log/get_fasta/get_fasta_mus_musculus/command_attempt1.bash: line 8: wget: command not found\n",
      "\n",
      "</STDERR>\n",
      "ERROR: 2020-04-09 12:31:05: <Task[2] get_fasta(uid='get_fasta_mus_musculus')> has failed too many times\n",
      "INFO: 2020-04-09 12:31:05: 2 tasks left in the queue\n",
      "WARNING: 2020-04-09 12:31:05: <Task[3] get_gtf(uid='get_gtf_homo_sapiens')> attempt #1 failed (max_attempts=1)\n",
      "WARNING: 2020-04-09 12:31:05: Task Info:\n",
      "<EXIT_STATUS=\"127\">\n",
      "<COMMAND path=\"/Users/logan/PycharmProjects/create_reference/log/get_gtf/get_gtf_homo_sapiens/command_attempt1.bash\" drm_jobID=\"28496\">\n",
      "<PARAMS>\n",
      "{ 'filename': './/homo_sapiens/99/transcriptome.gtf.gz',\n",
      "  'link': 'ftp://ftp.ensembl.org/pub/release-99/gtf/homo_sapiens/Homo_sapiens.GRCh38.99.gtf.gz'}\n",
      "</PARAMS>\n",
      "#!/bin/bash\n",
      "set -e\n",
      "set -o pipefail\n",
      "trap : USR1 USR2 XCPU\n",
      "echo \"This task is running as pid $$ on ${HOSTNAME}\" >&2\n",
      "echo \"CWD is `pwd`\" >&2\n",
      "\n",
      "wget -c ftp://ftp.ensembl.org/pub/release-99/gtf/homo_sapiens/Homo_sapiens.GRCh38.99.gtf.gz -O .//homo_sapiens/99/transcriptome.gtf.gz\n",
      "</COMMAND>\n",
      "<STDOUT path=\"/Users/logan/PycharmProjects/create_reference/log/get_gtf/get_gtf_homo_sapiens/stdout_attempt1.txt\">\n",
      "\n",
      "</STDOUT>\n",
      "<STDERR path=\"/Users/logan/PycharmProjects/create_reference/log/get_gtf/get_gtf_homo_sapiens/stderr_attempt1.txt\">\n",
      "This task is running as pid 28496 on BTRspg\n",
      "CWD is /Users/logan/PycharmProjects/create_reference\n",
      "/Users/logan/PycharmProjects/create_reference/log/get_gtf/get_gtf_homo_sapiens/command_attempt1.bash: line 8: wget: command not found\n",
      "\n",
      "</STDERR>\n",
      "ERROR: 2020-04-09 12:31:05: <Task[3] get_gtf(uid='get_gtf_homo_sapiens')> has failed too many times\n",
      "INFO: 2020-04-09 12:31:05: <Stage[2] get_gtf> Running, but a task failed (0/2 Tasks were successful)\n",
      "INFO: 2020-04-09 12:31:05: 1 tasks left in the queue\n",
      "WARNING: 2020-04-09 12:31:05: <Task[4] get_gtf(uid='get_gtf_mus_musculus')> attempt #1 failed (max_attempts=1)\n",
      "WARNING: 2020-04-09 12:31:05: Task Info:\n",
      "<EXIT_STATUS=\"127\">\n",
      "<COMMAND path=\"/Users/logan/PycharmProjects/create_reference/log/get_gtf/get_gtf_mus_musculus/command_attempt1.bash\" drm_jobID=\"28499\">\n",
      "<PARAMS>\n",
      "{ 'filename': './/mus_musculus/99/transcriptome.gtf.gz',\n",
      "  'link': 'ftp://ftp.ensembl.org/pub/release-99/gtf/mus_musculus/Mus_musculus.GRCm38.99.gtf.gz'}\n",
      "</PARAMS>\n",
      "#!/bin/bash\n",
      "set -e\n",
      "set -o pipefail\n",
      "trap : USR1 USR2 XCPU\n",
      "echo \"This task is running as pid $$ on ${HOSTNAME}\" >&2\n",
      "echo \"CWD is `pwd`\" >&2\n",
      "\n",
      "wget -c ftp://ftp.ensembl.org/pub/release-99/gtf/mus_musculus/Mus_musculus.GRCm38.99.gtf.gz -O .//mus_musculus/99/transcriptome.gtf.gz\n",
      "</COMMAND>\n",
      "<STDOUT path=\"/Users/logan/PycharmProjects/create_reference/log/get_gtf/get_gtf_mus_musculus/stdout_attempt1.txt\">\n",
      "\n",
      "</STDOUT>\n",
      "<STDERR path=\"/Users/logan/PycharmProjects/create_reference/log/get_gtf/get_gtf_mus_musculus/stderr_attempt1.txt\">\n",
      "This task is running as pid 28499 on BTRspg\n",
      "CWD is /Users/logan/PycharmProjects/create_reference\n",
      "/Users/logan/PycharmProjects/create_reference/log/get_gtf/get_gtf_mus_musculus/command_attempt1.bash: line 8: wget: command not found\n",
      "\n",
      "</STDERR>\n",
      "ERROR: 2020-04-09 12:31:05: <Task[4] get_gtf(uid='get_gtf_mus_musculus')> has failed too many times\n",
      "INFO: 2020-04-09 12:31:05: 0 tasks left in the queue\n",
      "WARNING: 2020-04-09 12:31:05: <Workflow[1] fetchr_reference> Failed, but finished (0/4 Tasks completed) in 0:02:16.642773\n",
      "INFO: 2020-04-09 12:31:05: <Stage[1] get_fasta> Finished, but failed (0/2 Tasks were successful)\n",
      "INFO: 2020-04-09 12:31:05: <Stage[2] get_gtf> Finished, but failed (0/2 Tasks were successful)\n"
     ]
    },
    {
     "ename": "SystemExit",
     "evalue": "1",
     "output_type": "error",
     "traceback": [
      "An exception has occurred, use %tb to see the full traceback.\n",
      "\u001b[0;31mSystemExit\u001b[0m\u001b[0;31m:\u001b[0m 1\n"
     ]
    },
    {
     "name": "stderr",
     "output_type": "stream",
     "text": [
      "/Users/logan/.conda/envs/nbdev-cd/lib/python3.7/site-packages/IPython/core/interactiveshell.py:3339: UserWarning: To exit: use 'exit', 'quit', or Ctrl-D.\n",
      "  warn(\"To exit: use 'exit', 'quit', or Ctrl-D.\", stacklevel=1)\n"
     ]
    }
   ],
   "source": [
    "# simple_reference()"
   ]
  },
  {
   "cell_type": "code",
   "execution_count": null,
   "metadata": {},
   "outputs": [
    {
     "name": "stdout",
     "output_type": "stream",
     "text": [
      "Converted 00_utils.ipynb.\n",
      "Converted 01_defaults.ipynb.\n",
      "Converted 02_tasks.ipynb.\n",
      "Converted 03_commands.ipynb.\n",
      "Converted 04_pipelines.ipynb.\n",
      "Converted 05_recipes.ipynb.\n",
      "Converted index.ipynb.\n"
     ]
    }
   ],
   "source": [
    "#hide\n",
    "from nbdev.export import notebook2script\n",
    "notebook2script()"
   ]
  },
  {
   "cell_type": "code",
   "execution_count": null,
   "metadata": {},
   "outputs": [],
   "source": []
  }
 ],
 "metadata": {
  "kernelspec": {
   "display_name": "Python 3",
   "language": "python",
   "name": "python3"
  },
  "language_info": {
   "codemirror_mode": {
    "name": "ipython",
    "version": 3
   },
   "file_extension": ".py",
   "mimetype": "text/x-python",
   "name": "python",
   "nbconvert_exporter": "python",
   "pygments_lexer": "ipython3",
   "version": "3.7.7"
  }
 },
 "nbformat": 4,
 "nbformat_minor": 4
}

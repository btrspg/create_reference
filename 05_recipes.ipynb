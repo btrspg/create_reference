{
 "cells": [
  {
   "cell_type": "code",
   "execution_count": null,
   "metadata": {},
   "outputs": [],
   "source": [
    "# default_exp recipes"
   ]
  },
  {
   "cell_type": "code",
   "execution_count": null,
   "metadata": {},
   "outputs": [],
   "source": [
    "%load_ext autoreload\n",
    "%autoreload 2"
   ]
  },
  {
   "cell_type": "code",
   "execution_count": null,
   "metadata": {},
   "outputs": [],
   "source": [
    "# export\n",
    "\n",
    "from create_reference.tasks import *"
   ]
  },
  {
   "cell_type": "code",
   "execution_count": null,
   "metadata": {},
   "outputs": [],
   "source": [
    "# export \n",
    "\n",
    "def recipe(workflow,species_paras,args):\n",
    "    get_fasta = [\n",
    "        workflow.add_task(\n",
    "            func=task_get_file,\n",
    "            params=dict(\n",
    "                link=para['link_genome_fasta'],\n",
    "                filename=para['local_genome_fasta_gz'],\n",
    "            ),\n",
    "            uid='get_fasta_%s_%s' % (para['species'],para['version']) ,\n",
    "            stage_name='get_fasta'\n",
    "        ) for para in species_paras]\n",
    "    \n",
    "    get_gtf = [\n",
    "        workflow.add_task(\n",
    "            func=task_get_file,\n",
    "            params=dict(\n",
    "                link=para['link_transcriptome_gtf'],\n",
    "                filename=para['local_transcriptome_gtf_gz'],\n",
    "            ),\n",
    "            uid='get_gtf_%s_%s' % (para['species'],para['version']) ,\n",
    "            stage_name='get_gtf'\n",
    "        ) for para in species_paras]\n",
    "    \n",
    "    get_bwa_idx = [\n",
    "        workflow.add_task(\n",
    "            func=task_bwa_build_index,\n",
    "            params=dict(\n",
    "                software=args.bwa,\n",
    "                reference=para['local_genome_fasta'],\n",
    "            ),\n",
    "            uid='get_bwa_index_%s_%s' % (para['species'],para['version']) ,\n",
    "            parents=get_fasta[i],\n",
    "            stage_name='get_bwa_index'\n",
    "        ) for i,para in enumerate(species_paras)]\n",
    "    \n",
    "    get_bowtie_idx = [\n",
    "        workflow.add_task(\n",
    "            func=task_bowtie_build_index,\n",
    "            params=dict(\n",
    "                software=args.bowtie,\n",
    "                reference=para['local_genome_fasta'],\n",
    "                prefix=para['bowtie_idx']\n",
    "            ),\n",
    "            uid='get_bowtie_index_%s_%s' % (para['species'],para['version']) ,\n",
    "            parents=get_fasta[i],\n",
    "            stage_name='get_bowtie_index'\n",
    "        ) for i,para in enumerate(species_paras)]\n",
    "    \n",
    "    get_bowtie2_idx = [\n",
    "        workflow.add_task(\n",
    "            func=task_bowtie2_build_index,\n",
    "            params=dict(\n",
    "                software=args.bwa,\n",
    "                reference=para['local_genome_fasta'],\n",
    "                prefix=para['bowtie2_idx']\n",
    "            ),\n",
    "            uid='get_bowtie2_index_%s_%s' % (para['species'],para['version']) ,\n",
    "            parents=get_fasta[i],\n",
    "            stage_name='get_bowtie2_index'\n",
    "        ) for i,para in enumerate(species_paras)]\n",
    "\n",
    "    "
   ]
  },
  {
   "cell_type": "code",
   "execution_count": null,
   "metadata": {},
   "outputs": [
    {
     "name": "stdout",
     "output_type": "stream",
     "text": [
      "Converted 00_utils.ipynb.\n",
      "Converted 01_defaults.ipynb.\n",
      "Converted 02_tasks.ipynb.\n",
      "Converted 03_commands.ipynb.\n",
      "Converted 04_pipelines.ipynb.\n",
      "Converted 05_recipes.ipynb.\n",
      "Converted index.ipynb.\n"
     ]
    }
   ],
   "source": [
    "#hide\n",
    "from nbdev.export import notebook2script\n",
    "notebook2script()"
   ]
  }
 ],
 "metadata": {
  "kernelspec": {
   "display_name": "Python 3",
   "language": "python",
   "name": "python3"
  }
 },
 "nbformat": 4,
 "nbformat_minor": 4
}

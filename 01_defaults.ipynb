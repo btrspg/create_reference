{
 "cells": [
  {
   "cell_type": "code",
   "execution_count": null,
   "metadata": {},
   "outputs": [],
   "source": [
    "# default_exp defaults"
   ]
  },
  {
   "cell_type": "code",
   "execution_count": null,
   "metadata": {},
   "outputs": [],
   "source": [
    "%load_ext autoreload\n",
    "%autoreload 2"
   ]
  },
  {
   "cell_type": "code",
   "execution_count": null,
   "metadata": {},
   "outputs": [],
   "source": [
    "# hide\n",
    "from nbdev.showdoc import *\n",
    "import random"
   ]
  },
  {
   "cell_type": "code",
   "execution_count": null,
   "metadata": {},
   "outputs": [],
   "source": [
    "# export\n",
    "\n",
    "fasta_file_pattern='{species}.+?dna\\..+?.fa.gz'\n",
    "gtf_file_pattern='{species}.+?{version}.gtf.gz'\n"
   ]
  },
  {
   "cell_type": "code",
   "execution_count": null,
   "metadata": {},
   "outputs": [],
   "source": [
    "# export\n",
    "\n",
    "ensembl_ftp='ftp.ensembl.org'"
   ]
  },
  {
   "cell_type": "code",
   "execution_count": null,
   "metadata": {},
   "outputs": [],
   "source": [
    "# export\n",
    "species=['homo_sapiens',\n",
    "'mus_musculus',\n",
    "'rattus_norvegicus',\n",
    "'caenorhabditis_elegans',\n",
    "'equus_caballus',\n",
    "'capra_hircus',\n",
    "'drosophila_melanogaster',\n",
    "'macaca_mulatta',\n",
    "'ovis_aries',\n",
    "'sus_scrofa',\n",
    "'oryctolagus_cuniculus',\n",
    "'bos_taurus',\n",
    "'saccharomyces_cerevisiae',\n",
    "'gallus_gallus',\n",
    "'gasterosteus_aculeatus',\n",
    "'danio_rerio',\n",
    "'oryzias_latipes',\n",
    "'anser_cygnoides',\n",
    "'callithrix_jacchus',\n",
    "'pan_troglodytes',\n",
    "'pongo_abelii',\n",
    "'meleagris_gallopavo',\n",
    "'oreochromis_niloticus',\n",
    "'bos_grunniens',\n",
    "'phascolarctos_cinereus',\n",
    "'salmo_salar',\n",
    "'amphilophus_citrinellus',\n",
    "'ciona_intestinalis',\n",
    "'monodelphis_domestica',\n",
    "'mesocricetus_auratus',\n",
    "'scophthalmus_maximus',\n",
    "'felis_catus',\n",
    "'microcebus_murinus',\n",
    "'cynoglossus_semilaevis',\n",
    "'anolis_carolinensis',\n",
    "'ailuropoda_melanoleuca',\n",
    "'melopsittacus_undulatus',\n",
    "'clupea_harengus',\n",
    "'neolamprologus_brichardi',\n",
    "'maylandia_zebra',\n",
    "'haplochromis_burtoni',\n",
    "'pundamilia_nyererei',\n",
    "'larimichthys_crocea',\n",
    "'chlorocebus_sabaeus']\n",
    "\n"
   ]
  },
  {
   "cell_type": "code",
   "execution_count": null,
   "metadata": {},
   "outputs": [],
   "source": [
    "# export\n",
    "softwares=['bwa','hisat2','samtools','star','picard']"
   ]
  },
  {
   "cell_type": "code",
   "execution_count": null,
   "metadata": {},
   "outputs": [],
   "source": [
    "# export\n",
    "\n",
    "defaults={\n",
    "    'FASTA_BASE':'ftp://ftp.ensembl.org/pub/release-{version}/fasta/{species}',\n",
    "    'GTF_BASE':'ftp://ftp.ensembl.org/pub/release-{version}/gtf/{species}',\n",
    "    'UCSC_FTP':'http://hgdownload.soe.ucsc.edu/goldenPath/',\n",
    "    'DBSNP_VERSION':'144',\n",
    "    'SNP_FILE':'snp{DBSNP_VERSION}Common.txt',\n",
    "}\n",
    "    \n",
    "\n",
    "\n",
    "\n",
    "# FLAT_GRCH37=${UCSC_FTP}/hg19/database/refFlat.txt.gz\n",
    "# FLAT_GRCH38=${UCSC_FTP}/hg38/database/refFlat.txt.gz\n",
    "\n",
    "\n",
    "# GRCH37_GTF_FILE=Homo_sapiens.GRCh37.${HUMAN_GRCH37_VERSION}.gtf\n",
    "# GRCH38_GTF_FILE=Homo_sapiens.GRCh38.${HUMAN_GRCH38_VERSION}.gtf\n",
    "\n",
    "\n",
    "# DBSNP_RELEASE=144\n",
    "# SNP_FILE=snp${DBSNP_RELEASE}Common.txt\n",
    "# GRCH37_UCSC_COMMON_SNP=http://hgdownload.cse.ucsc.edu/goldenPath/hg19/database/${SNP_FILE}\n",
    "# GRCH38_UCSC_COMMON_SNP=http://hgdownload.cse.ucsc.edu/goldenPath/hg38/database/${SNP_FILE}\n",
    "\n",
    "\n",
    "\n",
    "\n",
    "# GRCH37_FASTA=Homo_sapiens.GRCh37.${HUMAN_GRCH37_VERSION}.dna.primary_assembly.fa\n",
    "# GRCH38_FASTA=Homo_sapiens.GRCh38.dna.primary_assembly.fa\n",
    "\n",
    "# GRCH37_DICT=Homo_sapiens.GRCh37.${HUMAN_GRCH37_VERSION}.dna.primary_assembly.dict\n",
    "# GRCH38_DICT=Homo_sapiens.GRCh38.dna.primary_assembly.dict\n",
    "# rRNA_INTERVAL_LIST=Homo_sapiens.rRNA.interval_list\n"
   ]
  },
  {
   "cell_type": "code",
   "execution_count": null,
   "metadata": {},
   "outputs": [],
   "source": [
    "# export\n",
    "softwares_default={\n",
    "    'HISAT2_BUILD_EXE':'hisat2-build',\n",
    "    'HISAT2_SNP_SCRIPT':'hisat2_extract_snps_haplotypes_UCSC.py',\n",
    "    'HISAT2_SS_SCRIPT':'hisat2_extract_splice_sites.py',\n",
    "    'HISAT2_EXON_SCRIPT':'hisat2_extract_exons.py',\n",
    "    'PICARD_EXE':'picard',\n",
    "    'SAMTOOLS_EXE':'samtools',\n",
    "    'BWA_EXE':'bwa',\n",
    "    'STAR_EXE':'STAR',\n",
    "}"
   ]
  },
  {
   "cell_type": "code",
   "execution_count": null,
   "metadata": {},
   "outputs": [
    {
     "name": "stdout",
     "output_type": "stream",
     "text": [
      "Converted 00_utils.ipynb.\n",
      "Converted 01_defaults.ipynb.\n",
      "Converted 02_tasks.ipynb.\n",
      "Converted 03_commands.ipynb.\n",
      "Converted 04_pipelines.ipynb.\n",
      "Converted 05_recipes.ipynb.\n",
      "Converted index.ipynb.\n"
     ]
    }
   ],
   "source": [
    "#hide\n",
    "from nbdev.export import notebook2script\n",
    "notebook2script()"
   ]
  },
  {
   "cell_type": "code",
   "execution_count": null,
   "metadata": {},
   "outputs": [],
   "source": []
  }
 ],
 "metadata": {
  "kernelspec": {
   "display_name": "Python 3",
   "language": "python",
   "name": "python3"
  }
 },
 "nbformat": 4,
 "nbformat_minor": 1
}
